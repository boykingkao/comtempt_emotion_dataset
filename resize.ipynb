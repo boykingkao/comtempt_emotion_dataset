{
 "cells": [
  {
   "cell_type": "code",
   "execution_count": null,
   "id": "70f20840",
   "metadata": {},
   "outputs": [],
   "source": [
    "from PIL import Image\n",
    "\n",
    "for i in range(0,415079):\n",
    "    str_i = str(i)  \n",
    "    file_name = \"contempt/\"+str_i+\".jpg\"   \n",
    "    \n",
    "    try:\n",
    "        img = Image.open(file_name)\n",
    "        print(f\"read {str_i}.jpg\")        \n",
    "        new_width  = 128\n",
    "        new_height = 128\n",
    "        img = img.resize((new_width, new_height), Image.ANTIALIAS)\n",
    "        save_name = \"resize_128/\"+str_i+\".jpg\"\n",
    "        img.save(save_name)\n",
    "        \n",
    "    except:\n",
    "       pass\n",
    "\n"
   ]
  }
 ],
 "metadata": {
  "kernelspec": {
   "display_name": "Python 3 (ipykernel)",
   "language": "python",
   "name": "python3"
  },
  "language_info": {
   "codemirror_mode": {
    "name": "ipython",
    "version": 3
   },
   "file_extension": ".py",
   "mimetype": "text/x-python",
   "name": "python",
   "nbconvert_exporter": "python",
   "pygments_lexer": "ipython3",
   "version": "3.9.7"
  }
 },
 "nbformat": 4,
 "nbformat_minor": 5
}
